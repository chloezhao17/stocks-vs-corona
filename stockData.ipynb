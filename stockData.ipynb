{
 "cells": [
  {
   "cell_type": "code",
   "execution_count": 1,
   "metadata": {},
   "outputs": [],
   "source": [
    "import sqlite3\n",
    "import time\n",
    "import pandas as pd\n",
    "\n",
    "from sqlite3 import Error\n",
    "from pprint import pprint\n",
    "\n",
    "# https://medium.com/alpha-vantage/get-started-with-alpha-vantage-data-619a70c7f33a\n",
    "from alpha_vantage.timeseries import TimeSeries\n",
    "from alpha_vantage.techindicators import TechIndicators\n",
    "\n",
    "# Import API key\n",
    "from api_keys import api_key"
   ]
  },
  {
   "cell_type": "code",
   "execution_count": 2,
   "metadata": {},
   "outputs": [],
   "source": [
    "def storeData(df_Stock):\n",
    "    try:\n",
    "        # store the ticker sykmbol\n",
    "        ticker = df_Stock[\"ticker\"][0]\n",
    "        \n",
    "        # get our connection\n",
    "        conn = sqlite3.connect(r\"static/data/stocks.sqlite\")\n",
    "        \n",
    "        # create our cursor\n",
    "        cur = conn.cursor()\n",
    "        \n",
    "        # first check to see if our table exists\n",
    "        cur.execute(\"SELECT count(name) FROM sqlite_master WHERE type='table' AND name='stocks'\")\n",
    "\n",
    "        # if the count is 1, then our table exists\n",
    "        if cur.fetchone()[0]==1:\n",
    "            cur.execute(f\"DELETE FROM stocks WHERE ticker = '{ticker}'\")\n",
    "        # end if\n",
    "        \n",
    "        # add this stock data to our database\n",
    "        df_Stock.to_sql(name=\"stocks\", con=conn, if_exists=\"append\", index=True)\n",
    "    \n",
    "    except Error as e:\n",
    "            print(f\"Save failed for the stock: '{ticker}'. Please try again later./n/n  Error is:  {e}\")\n",
    "    finally:\n",
    "        # make sure we close our connection\n",
    "        conn.close()\n",
    "    # end try\n",
    "# end storeData()"
   ]
  },
  {
   "cell_type": "code",
   "execution_count": 8,
   "metadata": {},
   "outputs": [],
   "source": [
    "def refresh():\n",
    "    old_to_new = {\"1. open\": \"open\", \"2. high\": \"high\", \"3. low\": \"low\", \"4. close\": \"close\", \"5. volume\": \"volume\"}\n",
    "    reorder = [\"date\", \"ticker\", \"open\", \"high\", \"low\", \"close\", \"volume\"]\n",
    "    # Create a list of ticker symbols\n",
    "    stocks = [\"DAL\", \"AAL\", \"LUV\", \"UAL\", \"MSFT\", \"AAPL\", \"V\", \"INTC\", \"UBER\", \"BKNG\", \"LYFT\", \"TCOM\", \"ZM\"]\n",
    "    \n",
    "    for stockTicker in stocks:\n",
    "        print(f\"Getting data for ticker:'{stockTicker}'\")\n",
    "        \n",
    "        try:\n",
    "            # Chose your output format, or default to JSON (python dict)\n",
    "            ts = TimeSeries(api_key, output_format='pandas')\n",
    "            \n",
    "            # aapl_data is a pandas dataframe, aapl_meta_data is a dict\n",
    "            stockData, meta_data = ts.get_daily(symbol=stockTicker)\n",
    "            \n",
    "            # add the ticker column\n",
    "            stockData[\"ticker\"] = stockTicker\n",
    "            \n",
    "            # because \"date\" is not a field but rather an index\n",
    "            # reset the index so \"date\" is a field\n",
    "            stockData.reset_index(inplace=True)\n",
    "            \n",
    "            # rename the columns\n",
    "            stockData.rename(columns=old_to_new, inplace=True)\n",
    "            \n",
    "            # reorder the columns\n",
    "            stockData = stockData[reorder]  \n",
    "            \n",
    "            # convert to datetime\n",
    "            stockData[\"date\"] = pd.to_datetime(stockData[\"date\"])\n",
    "            \n",
    "            # set the index\n",
    "            stockData.set_index(\"date\", inplace=True)\n",
    "            \n",
    "            # convert the numeric fields to float\n",
    "            stockData[[\"open\", \"high\", \"low\", \"close\", \"volume\"]] = stockData[[\"open\", \"high\", \"low\", \"close\", \"volume\"]].apply(pd.to_numeric)\n",
    "            \n",
    "            # stick all the data into our SQLite database\n",
    "            storeData(stockData)\n",
    "\n",
    "            time.sleep(12)\n",
    "        except Error as e:\n",
    "            print(f\"The API failed for the stock '{stockTicker}'. Please try again later./n/n  Error is:  {e}\")\n",
    "        finally:\n",
    "            print(\"The update process has completed.\")\n",
    "        # End Try\n",
    "    # Next stockTicker\n",
    "# End refresh()"
   ]
  },
  {
   "cell_type": "code",
   "execution_count": 10,
   "metadata": {},
   "outputs": [
    {
     "name": "stdout",
     "output_type": "stream",
     "text": [
      "Getting data for ticker:'DAL'\n",
      "The update process has completed.\n",
      "Getting data for ticker:'AAL'\n",
      "The update process has completed.\n",
      "Getting data for ticker:'LUV'\n",
      "The update process has completed.\n",
      "Getting data for ticker:'UAL'\n",
      "The update process has completed.\n",
      "Getting data for ticker:'MSFT'\n",
      "The update process has completed.\n",
      "Getting data for ticker:'AAPL'\n",
      "The update process has completed.\n",
      "Getting data for ticker:'V'\n",
      "The update process has completed.\n",
      "Getting data for ticker:'INTC'\n",
      "The update process has completed.\n",
      "Getting data for ticker:'UBER'\n",
      "The update process has completed.\n",
      "Getting data for ticker:'BKNG'\n",
      "The update process has completed.\n",
      "Getting data for ticker:'LYFT'\n",
      "The update process has completed.\n",
      "Getting data for ticker:'TCOM'\n",
      "The update process has completed.\n",
      "Getting data for ticker:'ZM'\n",
      "The update process has completed.\n"
     ]
    }
   ],
   "source": [
    "refresh()"
   ]
  },
  {
   "cell_type": "code",
   "execution_count": 11,
   "metadata": {},
   "outputs": [
    {
     "name": "stdout",
     "output_type": "stream",
     "text": [
      "                     date ticker     open   high    low  close      volume\n",
      "0     2020-04-16 00:00:00    DAL  23.7600  23.80  22.63  22.78  55973221.0\n",
      "1     2020-04-15 00:00:00    DAL  24.9100  25.50  23.31  24.35  87798348.0\n",
      "2     2020-04-14 00:00:00    DAL  23.9899  25.29  23.83  24.54  58599118.0\n",
      "3     2020-04-13 00:00:00    DAL  24.9800  25.06  22.08  23.25  75904867.0\n",
      "4     2020-04-09 00:00:00    DAL  25.4000  25.53  23.35  24.39  90591165.0\n",
      "...                   ...    ...      ...    ...    ...    ...         ...\n",
      "1295  2019-11-27 00:00:00     ZM  75.8100  75.84  73.36  74.08   1356274.0\n",
      "1296  2019-11-26 00:00:00     ZM  75.0000  75.77  74.76  75.16   1848973.0\n",
      "1297  2019-11-25 00:00:00     ZM  73.8000  75.06  72.86  74.55   1943187.0\n",
      "1298  2019-11-22 00:00:00     ZM  72.0000  74.00  71.15  73.16   3059878.0\n",
      "1299  2019-11-21 00:00:00     ZM  71.5000  71.95  69.58  69.92   1129235.0\n",
      "\n",
      "[1300 rows x 7 columns]\n"
     ]
    }
   ],
   "source": [
    "# TEST - pull data from our database to make sure it's all there and type casted correctly\n",
    "# get our connection\n",
    "conn = sqlite3.connect(r\"static/data/stocks.sqlite\")\n",
    "\n",
    "cur = conn.cursor()\n",
    "cur.execute(\"select * from stocks\")\n",
    "myDF = pd.DataFrame(cur.fetchall(), columns=[\"date\", \"ticker\", \"open\", \"high\", \"low\", \"close\", \"volume\"])\n",
    "conn.close()\n",
    "\n",
    "print(myDF)"
   ]
  },
  {
   "cell_type": "code",
   "execution_count": null,
   "metadata": {},
   "outputs": [],
   "source": [
    "print(stockData)"
   ]
  },
  {
   "cell_type": "code",
   "execution_count": null,
   "metadata": {},
   "outputs": [],
   "source": []
  }
 ],
 "metadata": {
  "kernelspec": {
   "display_name": "Python 3",
   "language": "python",
   "name": "python3"
  },
  "language_info": {
   "codemirror_mode": {
    "name": "ipython",
    "version": 3
   },
   "file_extension": ".py",
   "mimetype": "text/x-python",
   "name": "python",
   "nbconvert_exporter": "python",
   "pygments_lexer": "ipython3",
   "version": "3.7.7"
  }
 },
 "nbformat": 4,
 "nbformat_minor": 2
}
