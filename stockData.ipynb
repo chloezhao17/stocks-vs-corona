{
 "cells": [
  {
   "cell_type": "code",
   "execution_count": 1,
   "metadata": {},
   "outputs": [],
   "source": [
    "import sqlalchemy\n",
    "from sqlalchemy.ext.automap import automap_base\n",
    "from sqlalchemy.orm import Session\n",
    "from sqlalchemy import create_engine, func\n",
    "from sqlite3 import Error\n",
    "from pprint import pprint\n",
    "import time\n",
    "import pandas as pd\n",
    "\n",
    "# https://medium.com/alpha-vantage/get-started-with-alpha-vantage-data-619a70c7f33a\n",
    "from alpha_vantage.timeseries import TimeSeries\n",
    "from alpha_vantage.techindicators import TechIndicators\n",
    "\n",
    "# Import API key\n",
    "from api_keys import api_key"
   ]
  },
  {
   "cell_type": "code",
   "execution_count": 2,
   "metadata": {},
   "outputs": [],
   "source": [
    "def storeData(df_Stock): \n",
    "    engine = create_engine(r\"sqlite:///static/data/stocks.sqlite\")\n",
    "    conn = engine.connect()\n",
    "    \n",
    "    df_Stock.reset_index(inplace=True)\n",
    "    df_Stock.to_sql(name=\"stocks\", con=conn, if_exists=\"replace\", index=True)\n",
    "    \n",
    "    myDF = pd.read_sql(\"select * from stocks\", conn)\n",
    "    conn.close()\n",
    "    \n",
    "    print(myDF)\n",
    "\n",
    "# end storeData()"
   ]
  },
  {
   "cell_type": "code",
   "execution_count": 3,
   "metadata": {},
   "outputs": [],
   "source": [
    "def refresh():\n",
    "    old_to_new = {\"1. open\": \"open\", \"2. high\": \"high\", \"3. low\": \"low\", \"4. close\": \"close\", \"5. volume\": \"volume\"}\n",
    "    reorder = [\"ticker\", \"date\", \"open\", \"high\", \"low\", \"close\", \"volume\"]\n",
    "    # Create a list of ticker symbols\n",
    "    stocks = [\"DAL\", \"AAL\", \"LUV\", \"UAL\", \"MSFT\", \"AAPL\", \"V\"] #, \"INTC\", \"UBER\", \"BKNG\", \"LYFT\", \"TCOM\", \"ZM\"]\n",
    "    \n",
    "    for stockTicker in stocks:\n",
    "        print(f\"Getting data for ticker:'{stockTicker}'\")\n",
    "        \n",
    "        try:\n",
    "            # Chose your output format, or default to JSON (python dict)\n",
    "            ts = TimeSeries(api_key, output_format='pandas')\n",
    "            \n",
    "            # aapl_data is a pandas dataframe, aapl_meta_data is a dict\n",
    "            stockData, meta_data = ts.get_daily(symbol=stockTicker)\n",
    "            stockData[\"ticker\"] = stockTicker\n",
    "            stockData.reset_index(inplace=True)\n",
    "            stockData.rename(columns=old_to_new, inplace=True)\n",
    "            stockData = stockData[reorder]\n",
    "            \n",
    "            stockData[[\"open\", \"high\", \"low\", \"close\", \"volume\"]] = stockData[[\"open\", \"high\", \"low\", \"close\", \"volume\"]].apply(pd.to_numeric)\n",
    "            \n",
    "            storeData(stockData)\n",
    "            \n",
    "            pprint(stockData)\n",
    "            break\n",
    "            time.sleep(2)\n",
    "        except Error as e:\n",
    "            print(f\"The API failed for the stock '{stockTicker}'. Please try again later./n/n  Error is:  {e}\")\n",
    "        finally:\n",
    "            print(\"The update process has completed.\")\n",
    "        # End Try\n",
    "    # Next stockTicker\n",
    "# End refresh()"
   ]
  },
  {
   "cell_type": "code",
   "execution_count": 4,
   "metadata": {},
   "outputs": [
    {
     "name": "stdout",
     "output_type": "stream",
     "text": [
      "Getting data for ticker:'DAL'\n",
      "    level_0  index ticker                        date     open     high  \\\n",
      "0         0      0    DAL  2020-04-15 00:00:00.000000  24.9100  25.5000   \n",
      "1         1      1    DAL  2020-04-14 00:00:00.000000  23.9899  25.2900   \n",
      "2         2      2    DAL  2020-04-13 00:00:00.000000  24.9800  25.0600   \n",
      "3         3      3    DAL  2020-04-09 00:00:00.000000  25.4000  25.5300   \n",
      "4         4      4    DAL  2020-04-08 00:00:00.000000  23.0900  23.6400   \n",
      "..      ...    ...    ...                         ...      ...      ...   \n",
      "95       95     95    DAL  2019-11-26 00:00:00.000000  56.3200  57.4800   \n",
      "96       96     96    DAL  2019-11-25 00:00:00.000000  56.3900  56.6900   \n",
      "97       97     97    DAL  2019-11-22 00:00:00.000000  55.5700  56.1300   \n",
      "98       98     98    DAL  2019-11-21 00:00:00.000000  55.7400  55.9856   \n",
      "99       99     99    DAL  2019-11-20 00:00:00.000000  56.8000  56.8500   \n",
      "\n",
      "        low   close      volume  \n",
      "0   23.3100  24.245  82226722.0  \n",
      "1   23.8300  24.540  53990012.0  \n",
      "2   22.0800  23.250  75904867.0  \n",
      "3   23.3500  24.390  90591165.0  \n",
      "4   22.5300  23.230  67176216.0  \n",
      "..      ...     ...         ...  \n",
      "95  56.2500  57.460   4888125.0  \n",
      "96  55.6900  56.350   6822419.0  \n",
      "97  55.1238  56.110   9647710.0  \n",
      "98  55.2600  55.310   5020957.0  \n",
      "99  55.2750  55.670   7383606.0  \n",
      "\n",
      "[100 rows x 9 columns]\n",
      "    index ticker       date     open     high      low   close      volume\n",
      "0       0    DAL 2020-04-15  24.9100  25.5000  23.3100  24.245  82226722.0\n",
      "1       1    DAL 2020-04-14  23.9899  25.2900  23.8300  24.540  53990012.0\n",
      "2       2    DAL 2020-04-13  24.9800  25.0600  22.0800  23.250  75904867.0\n",
      "3       3    DAL 2020-04-09  25.4000  25.5300  23.3500  24.390  90591165.0\n",
      "4       4    DAL 2020-04-08  23.0900  23.6400  22.5300  23.230  67176216.0\n",
      "..    ...    ...        ...      ...      ...      ...     ...         ...\n",
      "95     95    DAL 2019-11-26  56.3200  57.4800  56.2500  57.460   4888125.0\n",
      "96     96    DAL 2019-11-25  56.3900  56.6900  55.6900  56.350   6822419.0\n",
      "97     97    DAL 2019-11-22  55.5700  56.1300  55.1238  56.110   9647710.0\n",
      "98     98    DAL 2019-11-21  55.7400  55.9856  55.2600  55.310   5020957.0\n",
      "99     99    DAL 2019-11-20  56.8000  56.8500  55.2750  55.670   7383606.0\n",
      "\n",
      "[100 rows x 8 columns]\n",
      "The update process has completed.\n"
     ]
    }
   ],
   "source": [
    "refresh()"
   ]
  },
  {
   "cell_type": "code",
   "execution_count": null,
   "metadata": {},
   "outputs": [],
   "source": [
    "engine = create_engine(r\"sqlite:///static/data/stocks.sqlite\")\n",
    "conn = engine.connect()    \n",
    "myDF = pd.read_sql(\"select * from stocks\", conn)\n",
    "conn.close()\n",
    "\n",
    "print(myDF)"
   ]
  },
  {
   "cell_type": "code",
   "execution_count": null,
   "metadata": {},
   "outputs": [],
   "source": []
  }
 ],
 "metadata": {
  "kernelspec": {
   "display_name": "Python 3",
   "language": "python",
   "name": "python3"
  },
  "language_info": {
   "codemirror_mode": {
    "name": "ipython",
    "version": 3
   },
   "file_extension": ".py",
   "mimetype": "text/x-python",
   "name": "python",
   "nbconvert_exporter": "python",
   "pygments_lexer": "ipython3",
   "version": "3.7.4"
  }
 },
 "nbformat": 4,
 "nbformat_minor": 2
}
